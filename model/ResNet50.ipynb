{
 "cells": [
  {
   "cell_type": "code",
   "execution_count": 11,
   "metadata": {},
   "outputs": [
    {
     "name": "stdout",
     "output_type": "stream",
     "text": [
      "TensorFlow version: 2.3.0\n"
     ]
    }
   ],
   "source": [
    "import gc\n",
    "import cv2\n",
    "import math\n",
    "import numpy as np\n",
    "import pandas as pd\n",
    "import matplotlib.pyplot as plt\n",
    "import tensorflow as tf\n",
    "from tensorflow.keras.layers import *\n",
    "from tqdm import tqdm\n",
    "\n",
    "print('TensorFlow version: %s' % tf.__version__)"
   ]
  },
  {
   "cell_type": "code",
   "execution_count": 12,
   "metadata": {},
   "outputs": [
    {
     "data": {
      "text/html": [
       "<div>\n",
       "<style scoped>\n",
       "    .dataframe tbody tr th:only-of-type {\n",
       "        vertical-align: middle;\n",
       "    }\n",
       "\n",
       "    .dataframe tbody tr th {\n",
       "        vertical-align: top;\n",
       "    }\n",
       "\n",
       "    .dataframe thead th {\n",
       "        text-align: right;\n",
       "    }\n",
       "</style>\n",
       "<table border=\"1\" class=\"dataframe\">\n",
       "  <thead>\n",
       "    <tr style=\"text-align: right;\">\n",
       "      <th></th>\n",
       "      <th>id</th>\n",
       "      <th>path</th>\n",
       "      <th>is_bee</th>\n",
       "      <th>is_wasp</th>\n",
       "      <th>is_otherinsect</th>\n",
       "      <th>is_other</th>\n",
       "      <th>photo_quality</th>\n",
       "      <th>is_validation</th>\n",
       "      <th>is_final_validation</th>\n",
       "      <th>label</th>\n",
       "    </tr>\n",
       "  </thead>\n",
       "  <tbody>\n",
       "    <tr>\n",
       "      <th>0</th>\n",
       "      <td>1</td>\n",
       "      <td>bee1\\10007154554_026417cfd0_n.jpg</td>\n",
       "      <td>1</td>\n",
       "      <td>0</td>\n",
       "      <td>0</td>\n",
       "      <td>0</td>\n",
       "      <td>1</td>\n",
       "      <td>0</td>\n",
       "      <td>0</td>\n",
       "      <td>bee</td>\n",
       "    </tr>\n",
       "    <tr>\n",
       "      <th>1</th>\n",
       "      <td>2</td>\n",
       "      <td>bee1\\10024864894_6dc54d4b34_n.jpg</td>\n",
       "      <td>1</td>\n",
       "      <td>0</td>\n",
       "      <td>0</td>\n",
       "      <td>0</td>\n",
       "      <td>1</td>\n",
       "      <td>0</td>\n",
       "      <td>1</td>\n",
       "      <td>bee</td>\n",
       "    </tr>\n",
       "    <tr>\n",
       "      <th>2</th>\n",
       "      <td>3</td>\n",
       "      <td>bee1\\10092043833_7306dfd1f0_n.jpg</td>\n",
       "      <td>1</td>\n",
       "      <td>0</td>\n",
       "      <td>0</td>\n",
       "      <td>0</td>\n",
       "      <td>1</td>\n",
       "      <td>1</td>\n",
       "      <td>0</td>\n",
       "      <td>bee</td>\n",
       "    </tr>\n",
       "    <tr>\n",
       "      <th>3</th>\n",
       "      <td>4</td>\n",
       "      <td>bee1\\1011948979_fc3637e779_w.jpg</td>\n",
       "      <td>1</td>\n",
       "      <td>0</td>\n",
       "      <td>0</td>\n",
       "      <td>0</td>\n",
       "      <td>1</td>\n",
       "      <td>0</td>\n",
       "      <td>1</td>\n",
       "      <td>bee</td>\n",
       "    </tr>\n",
       "    <tr>\n",
       "      <th>4</th>\n",
       "      <td>5</td>\n",
       "      <td>bee1\\10128235063_dca17db76c_n.jpg</td>\n",
       "      <td>1</td>\n",
       "      <td>0</td>\n",
       "      <td>0</td>\n",
       "      <td>0</td>\n",
       "      <td>1</td>\n",
       "      <td>0</td>\n",
       "      <td>0</td>\n",
       "      <td>bee</td>\n",
       "    </tr>\n",
       "  </tbody>\n",
       "</table>\n",
       "</div>"
      ],
      "text/plain": [
       "   id                               path  is_bee  is_wasp  is_otherinsect  \\\n",
       "0   1  bee1\\10007154554_026417cfd0_n.jpg       1        0               0   \n",
       "1   2  bee1\\10024864894_6dc54d4b34_n.jpg       1        0               0   \n",
       "2   3  bee1\\10092043833_7306dfd1f0_n.jpg       1        0               0   \n",
       "3   4   bee1\\1011948979_fc3637e779_w.jpg       1        0               0   \n",
       "4   5  bee1\\10128235063_dca17db76c_n.jpg       1        0               0   \n",
       "\n",
       "   is_other  photo_quality  is_validation  is_final_validation label  \n",
       "0         0              1              0                    0   bee  \n",
       "1         0              1              0                    1   bee  \n",
       "2         0              1              1                    0   bee  \n",
       "3         0              1              0                    1   bee  \n",
       "4         0              1              0                    0   bee  "
      ]
     },
     "execution_count": 12,
     "metadata": {},
     "output_type": "execute_result"
    }
   ],
   "source": [
    "ROOT = '/Users/lixinyu/Desktop/kaggle_bee_vs_wasp/'\n",
    "SEED = 42\n",
    "EPOCHS = 10\n",
    "BATCH_SIZE = 32\n",
    "IMG_SIZE = 256\n",
    "\n",
    "\n",
    "df = pd.read_csv(ROOT+'labels.csv')\n",
    "df.head()"
   ]
  },
  {
   "cell_type": "code",
   "execution_count": 13,
   "metadata": {},
   "outputs": [],
   "source": [
    "import os\n",
    "def seed_everything(seed):\n",
    "    np.random.seed(seed)\n",
    "    os.environ['PYTHONHASHSEED'] = str(seed)\n",
    "    tf.random.set_seed(seed)\n",
    "\n",
    "seed_everything(SEED)"
   ]
  },
  {
   "cell_type": "code",
   "execution_count": 14,
   "metadata": {},
   "outputs": [
    {
     "name": "stderr",
     "output_type": "stream",
     "text": [
      "100%|██████████| 11421/11421 [00:04<00:00, 2673.48it/s]\n"
     ]
    },
    {
     "data": {
      "text/html": [
       "<div>\n",
       "<style scoped>\n",
       "    .dataframe tbody tr th:only-of-type {\n",
       "        vertical-align: middle;\n",
       "    }\n",
       "\n",
       "    .dataframe tbody tr th {\n",
       "        vertical-align: top;\n",
       "    }\n",
       "\n",
       "    .dataframe thead th {\n",
       "        text-align: right;\n",
       "    }\n",
       "</style>\n",
       "<table border=\"1\" class=\"dataframe\">\n",
       "  <thead>\n",
       "    <tr style=\"text-align: right;\">\n",
       "      <th></th>\n",
       "      <th>id</th>\n",
       "      <th>path</th>\n",
       "      <th>is_bee</th>\n",
       "      <th>is_wasp</th>\n",
       "      <th>is_otherinsect</th>\n",
       "      <th>is_other</th>\n",
       "      <th>photo_quality</th>\n",
       "      <th>is_validation</th>\n",
       "      <th>is_final_validation</th>\n",
       "      <th>label</th>\n",
       "    </tr>\n",
       "  </thead>\n",
       "  <tbody>\n",
       "    <tr>\n",
       "      <th>0</th>\n",
       "      <td>1</td>\n",
       "      <td>bee1/10007154554_026417cfd0_n.jpg</td>\n",
       "      <td>1</td>\n",
       "      <td>0</td>\n",
       "      <td>0</td>\n",
       "      <td>0</td>\n",
       "      <td>1</td>\n",
       "      <td>0</td>\n",
       "      <td>0</td>\n",
       "      <td>bee</td>\n",
       "    </tr>\n",
       "    <tr>\n",
       "      <th>1</th>\n",
       "      <td>2</td>\n",
       "      <td>bee1/10024864894_6dc54d4b34_n.jpg</td>\n",
       "      <td>1</td>\n",
       "      <td>0</td>\n",
       "      <td>0</td>\n",
       "      <td>0</td>\n",
       "      <td>1</td>\n",
       "      <td>0</td>\n",
       "      <td>1</td>\n",
       "      <td>bee</td>\n",
       "    </tr>\n",
       "    <tr>\n",
       "      <th>2</th>\n",
       "      <td>3</td>\n",
       "      <td>bee1/10092043833_7306dfd1f0_n.jpg</td>\n",
       "      <td>1</td>\n",
       "      <td>0</td>\n",
       "      <td>0</td>\n",
       "      <td>0</td>\n",
       "      <td>1</td>\n",
       "      <td>1</td>\n",
       "      <td>0</td>\n",
       "      <td>bee</td>\n",
       "    </tr>\n",
       "    <tr>\n",
       "      <th>3</th>\n",
       "      <td>4</td>\n",
       "      <td>bee1/1011948979_fc3637e779_w.jpg</td>\n",
       "      <td>1</td>\n",
       "      <td>0</td>\n",
       "      <td>0</td>\n",
       "      <td>0</td>\n",
       "      <td>1</td>\n",
       "      <td>0</td>\n",
       "      <td>1</td>\n",
       "      <td>bee</td>\n",
       "    </tr>\n",
       "    <tr>\n",
       "      <th>4</th>\n",
       "      <td>5</td>\n",
       "      <td>bee1/10128235063_dca17db76c_n.jpg</td>\n",
       "      <td>1</td>\n",
       "      <td>0</td>\n",
       "      <td>0</td>\n",
       "      <td>0</td>\n",
       "      <td>1</td>\n",
       "      <td>0</td>\n",
       "      <td>0</td>\n",
       "      <td>bee</td>\n",
       "    </tr>\n",
       "  </tbody>\n",
       "</table>\n",
       "</div>"
      ],
      "text/plain": [
       "   id                               path  is_bee  is_wasp  is_otherinsect  \\\n",
       "0   1  bee1/10007154554_026417cfd0_n.jpg       1        0               0   \n",
       "1   2  bee1/10024864894_6dc54d4b34_n.jpg       1        0               0   \n",
       "2   3  bee1/10092043833_7306dfd1f0_n.jpg       1        0               0   \n",
       "3   4   bee1/1011948979_fc3637e779_w.jpg       1        0               0   \n",
       "4   5  bee1/10128235063_dca17db76c_n.jpg       1        0               0   \n",
       "\n",
       "   is_other  photo_quality  is_validation  is_final_validation label  \n",
       "0         0              1              0                    0   bee  \n",
       "1         0              1              0                    1   bee  \n",
       "2         0              1              1                    0   bee  \n",
       "3         0              1              0                    1   bee  \n",
       "4         0              1              0                    0   bee  "
      ]
     },
     "execution_count": 14,
     "metadata": {},
     "output_type": "execute_result"
    }
   ],
   "source": [
    "for idx in tqdm(df.index):    \n",
    "    df.loc[idx,'path']=df.loc[idx,'path'].replace('\\\\', '/') \n",
    "    \n",
    "df.head()"
   ]
  },
  {
   "cell_type": "code",
   "execution_count": 15,
   "metadata": {},
   "outputs": [
    {
     "data": {
      "text/plain": [
       "bee       2469\n",
       "insect    2439\n",
       "wasp      2127\n",
       "Name: label, dtype: int64"
      ]
     },
     "execution_count": 15,
     "metadata": {},
     "output_type": "execute_result"
    }
   ],
   "source": [
    "df = df.query('photo_quality == 1')\n",
    "df['label'].value_counts()"
   ]
  },
  {
   "cell_type": "code",
   "execution_count": 145,
   "metadata": {},
   "outputs": [
    {
     "data": {
      "text/plain": [
       "7035"
      ]
     },
     "execution_count": 145,
     "metadata": {},
     "output_type": "execute_result"
    }
   ],
   "source": [
    "df.shape[0]"
   ]
  },
  {
   "cell_type": "code",
   "execution_count": 126,
   "metadata": {},
   "outputs": [
    {
     "data": {
      "text/plain": [
       "<matplotlib.axes._subplots.AxesSubplot at 0x7fbcdec48370>"
      ]
     },
     "execution_count": 126,
     "metadata": {},
     "output_type": "execute_result"
    },
    {
     "data": {
      "image/png": "[encoded data removed]",
      "text/plain": [
       "<Figure size 576x576 with 1 Axes>"
      ]
     },
     "metadata": {},
     "output_type": "display_data"
    }
   ],
   "source": [
    "df['label'].value_counts().plot.pie(figsize=(8,8),autopct='%.2f')"
   ]
  },
  {
   "cell_type": "code",
   "execution_count": 16,
   "metadata": {},
   "outputs": [],
   "source": [
    "train_df = df.query('is_validation == 0 & is_final_validation == 0').reset_index(drop=True)\n",
    "val_df = df.query('is_validation == 1').reset_index(drop=True)\n",
    "test_df = df.query('is_final_validation == 1').reset_index(drop=True)"
   ]
  },
  {
   "cell_type": "code",
   "execution_count": 17,
   "metadata": {},
   "outputs": [
    {
     "name": "stderr",
     "output_type": "stream",
     "text": [
      "100%|██████████| 4908/4908 [00:05<00:00, 830.96it/s]\n",
      "100%|██████████| 1043/1043 [00:01<00:00, 533.65it/s]\n",
      "100%|██████████| 1084/1084 [00:01<00:00, 558.73it/s]\n"
     ]
    }
   ],
   "source": [
    "def create_datasets(df, img_size):\n",
    "    imgs = []\n",
    "    for path in tqdm(df['path']):\n",
    "        img = cv2.imread(ROOT+path)\n",
    "        img = cv2.cvtColor(img, cv2.COLOR_BGR2RGB)\n",
    "        img = cv2.resize(img, (img_size,img_size))\n",
    "        imgs.append(img)\n",
    "        \n",
    "    imgs = np.array(imgs, dtype='float32')\n",
    "    imgs = imgs / 255.0\n",
    "    df = pd.get_dummies(df['label'])\n",
    "    return imgs, df\n",
    "\n",
    "\n",
    "train_imgs, train_df = create_datasets(train_df, IMG_SIZE)\n",
    "val_imgs, val_df = create_datasets(val_df, IMG_SIZE)\n",
    "test_imgs, test_df = create_datasets(test_df, IMG_SIZE)"
   ]
  },
  {
   "cell_type": "code",
   "execution_count": 65,
   "metadata": {},
   "outputs": [
    {
     "name": "stdout",
     "output_type": "stream",
     "text": [
      "Model: \"functional_25\"\n",
      "_________________________________________________________________\n",
      "Layer (type)                 Output Shape              Param #   \n",
      "=================================================================\n",
      "input_17 (InputLayer)        [(None, 256, 256, 3)]     0         \n",
      "_________________________________________________________________\n",
      "resnet50 (Functional)        (None, 8, 8, 2048)        23587712  \n",
      "_________________________________________________________________\n",
      "global_average_pooling2d_12  (None, 2048)              0         \n",
      "_________________________________________________________________\n",
      "dropout_14 (Dropout)         (None, 2048)              0         \n",
      "_________________________________________________________________\n",
      "dense_15 (Dense)             (None, 3)                 6147      \n",
      "=================================================================\n",
      "Total params: 23,593,859\n",
      "Trainable params: 23,540,739\n",
      "Non-trainable params: 53,120\n",
      "_________________________________________________________________\n"
     ]
    }
   ],
   "source": [
    "def build_model(img_size, n):\n",
    "    inp = Input(shape=(img_size,img_size,n))\n",
    "    from tensorflow.keras.applications.resnet50 import ResNet50\n",
    "    resnet = ResNet50(input_shape=(img_size,img_size,n), \n",
    "                                   weights='imagenet', \n",
    "                                   include_top=False)\n",
    "    x = resnet(inp)\n",
    "    x = GlobalAveragePooling2D()(x)\n",
    "    x = Dropout(0.3)(x)\n",
    "    x = Dense(3, activation='softmax')(x)\n",
    "    model = tf.keras.Model(inputs=inp, outputs=x) \n",
    "    opt = tf.keras.optimizers.SGD(momentum=0.9)\n",
    "    model.compile(optimizer=opt, loss='categorical_crossentropy', metrics=['accuracy'])\n",
    "    return model\n",
    "\n",
    "model = build_model(IMG_SIZE, 3)\n",
    "model.summary()"
   ]
  },
  {
   "cell_type": "code",
   "execution_count": 64,
   "metadata": {},
   "outputs": [
    {
     "data": {
      "image/png": "[encoded data removed]",
      "text/plain": [
       "<Figure size 432x288 with 1 Axes>"
      ]
     },
     "metadata": {
      "needs_background": "light"
     },
     "output_type": "display_data"
    },
    {
     "data": {
      "text/plain": [
       "<tensorflow.python.keras.callbacks.LearningRateScheduler at 0x7fbfbb8d82b0>"
      ]
     },
     "execution_count": 64,
     "metadata": {},
     "output_type": "execute_result"
    }
   ],
   "source": [
    "def get_lr_callback(batch_size=32, plot=False):\n",
    "    start_lr = 3e-4\n",
    "    def step_decay(epoch):\n",
    "        drop = 0.5\n",
    "        epochs_drop = 5.0\n",
    "        lr = start_lr * math.pow(drop, math.floor((1+epoch)/epochs_drop))\n",
    "        return lr\n",
    "    \n",
    "    lr_callback = tf.keras.callbacks.LearningRateScheduler(step_decay)\n",
    "    if plot == True:\n",
    "        rng = [i for i in range(EPOCHS)]\n",
    "        y = [step_decay(x) for x in rng]\n",
    "        plt.plot(rng, y)\n",
    "        plt.xlabel('epoch', size=14)\n",
    "        plt.ylabel('learning_rate', size=14)\n",
    "        plt.title('Training Schedule', size=16)\n",
    "        plt.show()\n",
    "        \n",
    "    return lr_callback\n",
    "\n",
    "\n",
    "get_lr_callback(plot=True)"
   ]
  },
  {
   "cell_type": "code",
   "execution_count": 22,
   "metadata": {},
   "outputs": [
    {
     "name": "stdout",
     "output_type": "stream",
     "text": [
      "Epoch 1/10\n",
      "154/154 [==============================] - 1111s 7s/step - loss: 0.3960 - accuracy: 0.8513 - val_loss: 1.4464 - val_accuracy: 0.3423\n",
      "Epoch 2/10\n",
      "154/154 [==============================] - 1142s 7s/step - loss: 0.2409 - accuracy: 0.9118 - val_loss: 1.6537 - val_accuracy: 0.3519\n",
      "Epoch 3/10\n",
      "154/154 [==============================] - 1120s 7s/step - loss: 0.1654 - accuracy: 0.9432 - val_loss: 1.5756 - val_accuracy: 0.3998\n",
      "Epoch 4/10\n",
      "154/154 [==============================] - 1117s 7s/step - loss: 0.1146 - accuracy: 0.9627 - val_loss: 1.1154 - val_accuracy: 0.5580\n",
      "Epoch 5/10\n",
      "154/154 [==============================] - 1376s 9s/step - loss: 0.0822 - accuracy: 0.9745 - val_loss: 0.7126 - val_accuracy: 0.7315\n",
      "Epoch 6/10\n",
      "154/154 [==============================] - 1154s 7s/step - loss: 0.0739 - accuracy: 0.9774 - val_loss: 0.3903 - val_accuracy: 0.8619\n",
      "Epoch 7/10\n",
      "154/154 [==============================] - 3845s 25s/step - loss: 0.0620 - accuracy: 0.9806 - val_loss: 0.2847 - val_accuracy: 0.9166\n",
      "Epoch 8/10\n",
      "154/154 [==============================] - 14026s 91s/step - loss: 0.0551 - accuracy: 0.9843 - val_loss: 0.2735 - val_accuracy: 0.9185\n",
      "Epoch 9/10\n",
      "154/154 [==============================] - 5169s 34s/step - loss: 0.0471 - accuracy: 0.9876 - val_loss: 0.2813 - val_accuracy: 0.9223\n",
      "Epoch 10/10\n",
      "154/154 [==============================] - 1137s 7s/step - loss: 0.0428 - accuracy: 0.9892 - val_loss: 0.2775 - val_accuracy: 0.9185\n"
     ]
    },
    {
     "data": {
      "image/png": "[encoded data removed]",
      "text/plain": [
       "<Figure size 432x288 with 1 Axes>"
      ]
     },
     "metadata": {
      "needs_background": "light"
     },
     "output_type": "display_data"
    },
    {
     "data": {
      "image/png": "[encoded data removed]",
      "text/plain": [
       "<Figure size 432x288 with 1 Axes>"
      ]
     },
     "metadata": {
      "needs_background": "light"
     },
     "output_type": "display_data"
    },
    {
     "data": {
      "text/plain": [
       "15889"
      ]
     },
     "execution_count": 22,
     "metadata": {},
     "output_type": "execute_result"
    }
   ],
   "source": [
    "es_callback = tf.keras.callbacks.EarlyStopping(patience=10, \n",
    "                                               verbose=1, \n",
    "                                               restore_best_weights=True)\n",
    "\n",
    "history = model.fit(train_imgs, \n",
    "                    train_df, \n",
    "                    batch_size=BATCH_SIZE, \n",
    "                    epochs=EPOCHS, \n",
    "                    callbacks=[es_callback, get_lr_callback(BATCH_SIZE)], \n",
    "                    validation_data=(val_imgs, val_df))\n",
    "\n",
    "\n",
    "pd.DataFrame(history.history)[['accuracy', 'val_accuracy']].plot()\n",
    "pd.DataFrame(history.history)[['loss', 'val_loss']].plot()\n",
    "plt.show()\n",
    "\n",
    "gc.collect()"
   ]
  },
  {
   "cell_type": "code",
   "execution_count": 23,
   "metadata": {},
   "outputs": [
    {
     "name": "stdout",
     "output_type": "stream",
     "text": [
      "34/34 [==============================] - 53s 2s/step - loss: 0.2486 - accuracy: 0.9197\n"
     ]
    },
    {
     "data": {
      "text/plain": [
       "[0.2486221194267273, 0.919741690158844]"
      ]
     },
     "execution_count": 23,
     "metadata": {},
     "output_type": "execute_result"
    }
   ],
   "source": [
    "model.evaluate(test_imgs, test_df) "
   ]
  },
  {
   "cell_type": "code",
   "execution_count": 24,
   "metadata": {},
   "outputs": [],
   "source": [
    "model.save('myResNet50.h5')"
   ]
  },
  {
   "cell_type": "markdown",
   "metadata": {},
   "source": [
    "### random label"
   ]
  },
  {
   "cell_type": "markdown",
   "metadata": {},
   "source": [
    "#### all-random"
   ]
  },
  {
   "cell_type": "code",
   "execution_count": 93,
   "metadata": {},
   "outputs": [
    {
     "data": {
      "text/html": [
       "<div>\n",
       "<style scoped>\n",
       "    .dataframe tbody tr th:only-of-type {\n",
       "        vertical-align: middle;\n",
       "    }\n",
       "\n",
       "    .dataframe tbody tr th {\n",
       "        vertical-align: top;\n",
       "    }\n",
       "\n",
       "    .dataframe thead th {\n",
       "        text-align: right;\n",
       "    }\n",
       "</style>\n",
       "<table border=\"1\" class=\"dataframe\">\n",
       "  <thead>\n",
       "    <tr style=\"text-align: right;\">\n",
       "      <th></th>\n",
       "      <th>id</th>\n",
       "      <th>path</th>\n",
       "      <th>is_bee</th>\n",
       "      <th>is_wasp</th>\n",
       "      <th>is_otherinsect</th>\n",
       "      <th>is_other</th>\n",
       "      <th>photo_quality</th>\n",
       "      <th>is_validation</th>\n",
       "      <th>is_final_validation</th>\n",
       "      <th>label</th>\n",
       "    </tr>\n",
       "  </thead>\n",
       "  <tbody>\n",
       "    <tr>\n",
       "      <th>0</th>\n",
       "      <td>1</td>\n",
       "      <td>bee1/10007154554_026417cfd0_n.jpg</td>\n",
       "      <td>1</td>\n",
       "      <td>0</td>\n",
       "      <td>0</td>\n",
       "      <td>0</td>\n",
       "      <td>1</td>\n",
       "      <td>0</td>\n",
       "      <td>0</td>\n",
       "      <td>bee</td>\n",
       "    </tr>\n",
       "    <tr>\n",
       "      <th>1</th>\n",
       "      <td>2</td>\n",
       "      <td>bee1/10024864894_6dc54d4b34_n.jpg</td>\n",
       "      <td>1</td>\n",
       "      <td>0</td>\n",
       "      <td>0</td>\n",
       "      <td>0</td>\n",
       "      <td>1</td>\n",
       "      <td>0</td>\n",
       "      <td>1</td>\n",
       "      <td>wasp</td>\n",
       "    </tr>\n",
       "    <tr>\n",
       "      <th>2</th>\n",
       "      <td>3</td>\n",
       "      <td>bee1/10092043833_7306dfd1f0_n.jpg</td>\n",
       "      <td>1</td>\n",
       "      <td>0</td>\n",
       "      <td>0</td>\n",
       "      <td>0</td>\n",
       "      <td>1</td>\n",
       "      <td>1</td>\n",
       "      <td>0</td>\n",
       "      <td>insect</td>\n",
       "    </tr>\n",
       "    <tr>\n",
       "      <th>3</th>\n",
       "      <td>4</td>\n",
       "      <td>bee1/1011948979_fc3637e779_w.jpg</td>\n",
       "      <td>1</td>\n",
       "      <td>0</td>\n",
       "      <td>0</td>\n",
       "      <td>0</td>\n",
       "      <td>1</td>\n",
       "      <td>0</td>\n",
       "      <td>1</td>\n",
       "      <td>insect</td>\n",
       "    </tr>\n",
       "    <tr>\n",
       "      <th>4</th>\n",
       "      <td>5</td>\n",
       "      <td>bee1/10128235063_dca17db76c_n.jpg</td>\n",
       "      <td>1</td>\n",
       "      <td>0</td>\n",
       "      <td>0</td>\n",
       "      <td>0</td>\n",
       "      <td>1</td>\n",
       "      <td>0</td>\n",
       "      <td>0</td>\n",
       "      <td>insect</td>\n",
       "    </tr>\n",
       "  </tbody>\n",
       "</table>\n",
       "</div>"
      ],
      "text/plain": [
       "   id                               path  is_bee  is_wasp  is_otherinsect  \\\n",
       "0   1  bee1/10007154554_026417cfd0_n.jpg       1        0               0   \n",
       "1   2  bee1/10024864894_6dc54d4b34_n.jpg       1        0               0   \n",
       "2   3  bee1/10092043833_7306dfd1f0_n.jpg       1        0               0   \n",
       "3   4   bee1/1011948979_fc3637e779_w.jpg       1        0               0   \n",
       "4   5  bee1/10128235063_dca17db76c_n.jpg       1        0               0   \n",
       "\n",
       "   is_other  photo_quality  is_validation  is_final_validation   label  \n",
       "0         0              1              0                    0     bee  \n",
       "1         0              1              0                    1    wasp  \n",
       "2         0              1              1                    0  insect  \n",
       "3         0              1              0                    1  insect  \n",
       "4         0              1              0                    0  insect  "
      ]
     },
     "execution_count": 93,
     "metadata": {},
     "output_type": "execute_result"
    }
   ],
   "source": [
    "from random import shuffle\n",
    "df_rand = df.copy()\n",
    "test = np.array(df_rand['label'].tolist())\n",
    "test = np.random.permutation(test)\n",
    "test = np.array(test)\n",
    "df_rand['label'] = test\n",
    "df_rand.head()"
   ]
  },
  {
   "cell_type": "code",
   "execution_count": 94,
   "metadata": {},
   "outputs": [
    {
     "data": {
      "text/plain": [
       "bee       2469\n",
       "insect    2439\n",
       "wasp      2127\n",
       "Name: label, dtype: int64"
      ]
     },
     "execution_count": 94,
     "metadata": {},
     "output_type": "execute_result"
    }
   ],
   "source": [
    "df_rand = df_rand.query('photo_quality == 1')\n",
    "df_rand['label'].value_counts()"
   ]
  },
  {
   "cell_type": "code",
   "execution_count": 95,
   "metadata": {},
   "outputs": [],
   "source": [
    "train_df_rand = df_rand.query('is_validation == 0 & is_final_validation == 0').reset_index(drop=True)\n",
    "val_df_rand = df_rand.query('is_validation == 1').reset_index(drop=True)\n",
    "test_df_rand = df_rand.query('is_final_validation == 1').reset_index(drop=True)"
   ]
  },
  {
   "cell_type": "code",
   "execution_count": 96,
   "metadata": {},
   "outputs": [
    {
     "name": "stderr",
     "output_type": "stream",
     "text": [
      "100%|██████████| 4908/4908 [00:08<00:00, 572.42it/s]\n",
      "100%|██████████| 1043/1043 [00:02<00:00, 507.41it/s]\n",
      "100%|██████████| 1084/1084 [00:01<00:00, 559.11it/s]\n"
     ]
    }
   ],
   "source": [
    "def create_datasets2(df, img_size):\n",
    "    imgs = []\n",
    "    for path in tqdm(df['path']):\n",
    "        img = cv2.imread(ROOT+path)\n",
    "        img = cv2.cvtColor(img, cv2.COLOR_BGR2RGB)\n",
    "        img = cv2.resize(img, (img_size,img_size))\n",
    "        imgs.append(img)\n",
    "        \n",
    "    imgs = np.array(imgs, dtype='float32')\n",
    "    imgs = imgs / 255.0\n",
    "    df = pd.get_dummies(df['label'])\n",
    "    return imgs, df\n",
    "\n",
    "\n",
    "train_imgs_rand, train_df_rand = create_datasets(train_df_rand, IMG_SIZE)\n",
    "val_imgs_rand, val_df_rand = create_datasets(val_df_rand, IMG_SIZE)\n",
    "test_imgs_rand, test_df_rand = create_datasets(test_df_rand, IMG_SIZE)"
   ]
  },
  {
   "cell_type": "code",
   "execution_count": 100,
   "metadata": {},
   "outputs": [
    {
     "data": {
      "image/png": "[encoded data removed]",
      "text/plain": [
       "<Figure size 432x288 with 1 Axes>"
      ]
     },
     "metadata": {
      "needs_background": "light"
     },
     "output_type": "display_data"
    },
    {
     "name": "stdout",
     "output_type": "stream",
     "text": [
      "Epoch 1/20\n",
      "154/154 [==============================] - 1144s 7s/step - loss: 1.3119 - accuracy: 0.3386 - val_loss: 1.4611 - val_accuracy: 0.3423\n",
      "Epoch 2/20\n",
      "154/154 [==============================] - 1131s 7s/step - loss: 1.0315 - accuracy: 0.4919 - val_loss: 1.2883 - val_accuracy: 0.3490\n",
      "Epoch 3/20\n",
      "154/154 [==============================] - 1149s 7s/step - loss: 0.7403 - accuracy: 0.6746 - val_loss: 1.2835 - val_accuracy: 0.3413\n",
      "Epoch 4/20\n",
      "154/154 [==============================] - 1143s 7s/step - loss: 0.4051 - accuracy: 0.8645 - val_loss: 1.6758 - val_accuracy: 0.3039\n",
      "Epoch 5/20\n",
      "154/154 [==============================] - 1133s 7s/step - loss: 0.1845 - accuracy: 0.9564 - val_loss: 2.1346 - val_accuracy: 0.2963\n",
      "Epoch 6/20\n",
      "154/154 [==============================] - 1114s 7s/step - loss: 0.0975 - accuracy: 0.9821 - val_loss: 2.1277 - val_accuracy: 0.3106\n",
      "Epoch 7/20\n",
      "154/154 [==============================] - 1113s 7s/step - loss: 0.0662 - accuracy: 0.9872 - val_loss: 2.0456 - val_accuracy: 0.3241\n",
      "Epoch 8/20\n",
      "154/154 [==============================] - 1113s 7s/step - loss: 0.0480 - accuracy: 0.9904 - val_loss: 2.3459 - val_accuracy: 0.3030\n",
      "Epoch 9/20\n",
      "154/154 [==============================] - 1112s 7s/step - loss: 0.0421 - accuracy: 0.9910 - val_loss: 2.3298 - val_accuracy: 0.3394\n",
      "Epoch 10/20\n",
      "154/154 [==============================] - 1112s 7s/step - loss: 0.0300 - accuracy: 0.9929 - val_loss: 2.3783 - val_accuracy: 0.3289\n",
      "Epoch 11/20\n",
      "154/154 [==============================] - 1112s 7s/step - loss: 0.0278 - accuracy: 0.9941 - val_loss: 2.4387 - val_accuracy: 0.3241\n",
      "Epoch 12/20\n",
      "154/154 [==============================] - 1112s 7s/step - loss: 0.0229 - accuracy: 0.9951 - val_loss: 2.4687 - val_accuracy: 0.3241\n",
      "Epoch 13/20\n",
      "154/154 [==============================] - ETA: 0s - loss: 0.0223 - accuracy: 0.9947Restoring model weights from the end of the best epoch.\n",
      "154/154 [==============================] - 1111s 7s/step - loss: 0.0223 - accuracy: 0.9947 - val_loss: 2.4993 - val_accuracy: 0.3202\n",
      "Epoch 00013: early stopping\n"
     ]
    },
    {
     "data": {
      "image/png": "[encoded data removed]",
      "text/plain": [
       "<Figure size 432x288 with 1 Axes>"
      ]
     },
     "metadata": {
      "needs_background": "light"
     },
     "output_type": "display_data"
    },
    {
     "data": {
      "image/png": "[encoded data removed]",
      "text/plain": [
       "<Figure size 432x288 with 1 Axes>"
      ]
     },
     "metadata": {
      "needs_background": "light"
     },
     "output_type": "display_data"
    },
    {
     "data": {
      "text/plain": [
       "13830"
      ]
     },
     "execution_count": 100,
     "metadata": {},
     "output_type": "execute_result"
    }
   ],
   "source": [
    "EPOCHS2 = 20\n",
    "\n",
    "def get_lr_callback(batch_size=32, plot=False):\n",
    "    start_lr = 0.001\n",
    "    def step_decay(epoch):\n",
    "        drop = 0.5\n",
    "        epochs_drop = 5.0\n",
    "        lr = start_lr * math.pow(drop, math.floor((1+epoch)/epochs_drop))\n",
    "        return lr\n",
    "    \n",
    "    lr_callback = tf.keras.callbacks.LearningRateScheduler(step_decay)\n",
    "    if plot == True:\n",
    "        rng = [i for i in range(EPOCHS2)]\n",
    "        y = [step_decay(x) for x in rng]\n",
    "        plt.plot(rng, y)\n",
    "        plt.xlabel('epoch', size=14)\n",
    "        plt.ylabel('learning_rate', size=14)\n",
    "        plt.title('Training Schedule', size=16)\n",
    "        plt.show()\n",
    "        \n",
    "    return lr_callback\n",
    "\n",
    "get_lr_callback(plot=True)\n",
    "\n",
    "es_callback = tf.keras.callbacks.EarlyStopping(patience=10, \n",
    "                                               verbose=1, \n",
    "                                               restore_best_weights=True)\n",
    "\n",
    "history2 = model.fit(train_imgs_rand, \n",
    "                    train_df_rand, \n",
    "                    batch_size=BATCH_SIZE, \n",
    "                    epochs=EPOCHS2, \n",
    "                    callbacks=[es_callback, get_lr_callback(BATCH_SIZE)], \n",
    "                    validation_data=(val_imgs_rand, val_df_rand))\n",
    "\n",
    "\n",
    "pd.DataFrame(history2.history)[['accuracy', 'val_accuracy']].plot()\n",
    "pd.DataFrame(history2.history)[['loss', 'val_loss']].plot()\n",
    "plt.show()\n",
    "\n",
    "gc.collect()"
   ]
  },
  {
   "cell_type": "markdown",
   "metadata": {},
   "source": [
    "#### half-random"
   ]
  },
  {
   "cell_type": "code",
   "execution_count": 103,
   "metadata": {},
   "outputs": [],
   "source": [
    "df_rand_2 = df.copy()\n",
    "train_df_rand_2 = df_rand_2.query('is_validation == 0 & is_final_validation == 0').reset_index(drop=True)\n",
    "val_df_rand_2 = df_rand_2.query('is_validation == 1').reset_index(drop=True)\n",
    "test_df_rand_2 = df_rand_2.query('is_final_validation == 1').reset_index(drop=True)"
   ]
  },
  {
   "cell_type": "code",
   "execution_count": 107,
   "metadata": {},
   "outputs": [
    {
     "data": {
      "text/plain": [
       "bee       1716\n",
       "insect    1706\n",
       "wasp      1486\n",
       "Name: label, dtype: int64"
      ]
     },
     "execution_count": 107,
     "metadata": {},
     "output_type": "execute_result"
    }
   ],
   "source": [
    "train_df_rand_2['label'].value_counts()"
   ]
  },
  {
   "cell_type": "code",
   "execution_count": 109,
   "metadata": {},
   "outputs": [],
   "source": [
    "l = np.random.choice(train_df_rand_2.shape[0], int(train_df_rand_2.shape[0] / 2), replace = False)\n",
    "ll = []\n",
    "for i in l:\n",
    "    ll.append(train_df_rand_2.loc[i, 'label'])\n",
    "lll = np.random.permutation(np.array(ll))\n",
    "for i in range(0, len(l)):\n",
    "    train_df_rand_2.loc[l[i], 'label'] = lll[i]"
   ]
  },
  {
   "cell_type": "code",
   "execution_count": 112,
   "metadata": {},
   "outputs": [],
   "source": [
    "l = np.random.choice(val_df_rand_2.shape[0], int(val_df_rand_2.shape[0] / 2), replace = False)\n",
    "ll = []\n",
    "for i in l:\n",
    "    ll.append(val_df_rand_2.loc[i, 'label'])\n",
    "lll = np.random.permutation(np.array(ll))\n",
    "for i in range(0, len(l)):\n",
    "    val_df_rand_2.loc[l[i], 'label'] = lll[i]"
   ]
  },
  {
   "cell_type": "code",
   "execution_count": 113,
   "metadata": {},
   "outputs": [],
   "source": [
    "l = np.random.choice(test_df_rand_2.shape[0], int(test_df_rand_2.shape[0] / 2), replace = False)\n",
    "ll = []\n",
    "for i in l:\n",
    "    ll.append(test_df_rand_2.loc[i, 'label'])\n",
    "lll = np.random.permutation(np.array(ll))\n",
    "for i in range(0, len(l)):\n",
    "    test_df_rand_2.loc[l[i], 'label'] = lll[i]"
   ]
  },
  {
   "cell_type": "code",
   "execution_count": 115,
   "metadata": {},
   "outputs": [
    {
     "name": "stderr",
     "output_type": "stream",
     "text": [
      "100%|██████████| 4908/4908 [00:07<00:00, 660.26it/s]\n",
      "100%|██████████| 1043/1043 [00:02<00:00, 474.75it/s]\n",
      "100%|██████████| 1084/1084 [00:02<00:00, 472.89it/s]\n"
     ]
    }
   ],
   "source": [
    "def create_datasets3(df, img_size):\n",
    "    imgs = []\n",
    "    for path in tqdm(df['path']):\n",
    "        img = cv2.imread(ROOT+path)\n",
    "        img = cv2.cvtColor(img, cv2.COLOR_BGR2RGB)\n",
    "        img = cv2.resize(img, (img_size,img_size))\n",
    "        imgs.append(img)\n",
    "        \n",
    "    imgs = np.array(imgs, dtype='float32')\n",
    "    imgs = imgs / 255.0\n",
    "    df = pd.get_dummies(df['label'])\n",
    "    return imgs, df\n",
    "\n",
    "\n",
    "train_imgs_rand_2, train_df_rand_2 = create_datasets3(train_df_rand_2, IMG_SIZE)\n",
    "val_imgs_rand_2, val_df_rand_2 = create_datasets3(val_df_rand_2, IMG_SIZE)\n",
    "test_imgs_rand_2, test_df_rand_2 = create_datasets3(test_df_rand_2, IMG_SIZE)"
   ]
  },
  {
   "cell_type": "code",
   "execution_count": 117,
   "metadata": {},
   "outputs": [
    {
     "name": "stdout",
     "output_type": "stream",
     "text": [
      "Epoch 1/20\n",
      "154/154 [==============================] - 1072s 7s/step - loss: 1.0959 - accuracy: 0.5192 - val_loss: 1.1008 - val_accuracy: 0.3960\n",
      "Epoch 2/20\n",
      "154/154 [==============================] - 1105s 7s/step - loss: 0.7927 - accuracy: 0.6544 - val_loss: 0.8735 - val_accuracy: 0.6203\n",
      "Epoch 3/20\n",
      "154/154 [==============================] - 1101s 7s/step - loss: 0.4974 - accuracy: 0.8079 - val_loss: 0.7595 - val_accuracy: 0.6788\n",
      "Epoch 4/20\n",
      "154/154 [==============================] - 1102s 7s/step - loss: 0.2485 - accuracy: 0.9218 - val_loss: 0.8475 - val_accuracy: 0.6702\n",
      "Epoch 5/20\n",
      "154/154 [==============================] - 1100s 7s/step - loss: 0.1151 - accuracy: 0.9764 - val_loss: 0.7395 - val_accuracy: 0.7450\n",
      "Epoch 6/20\n",
      "154/154 [==============================] - 1093s 7s/step - loss: 0.0643 - accuracy: 0.9874 - val_loss: 0.7873 - val_accuracy: 0.7296\n",
      "Epoch 7/20\n",
      "154/154 [==============================] - 1092s 7s/step - loss: 0.0503 - accuracy: 0.9896 - val_loss: 0.8099 - val_accuracy: 0.7229\n",
      "Epoch 8/20\n",
      "154/154 [==============================] - 1094s 7s/step - loss: 0.0374 - accuracy: 0.9912 - val_loss: 0.8138 - val_accuracy: 0.7258\n",
      "Epoch 9/20\n",
      "154/154 [==============================] - 1092s 7s/step - loss: 0.0276 - accuracy: 0.9941 - val_loss: 0.8457 - val_accuracy: 0.7229\n",
      "Epoch 10/20\n",
      "154/154 [==============================] - 1095s 7s/step - loss: 0.0221 - accuracy: 0.9961 - val_loss: 0.8378 - val_accuracy: 0.7383\n",
      "Epoch 11/20\n",
      "154/154 [==============================] - 1094s 7s/step - loss: 0.0207 - accuracy: 0.9957 - val_loss: 0.8445 - val_accuracy: 0.7335\n",
      "Epoch 12/20\n",
      "154/154 [==============================] - 1095s 7s/step - loss: 0.0207 - accuracy: 0.9957 - val_loss: 0.8595 - val_accuracy: 0.7383\n",
      "Epoch 13/20\n",
      "154/154 [==============================] - 1096s 7s/step - loss: 0.0184 - accuracy: 0.9951 - val_loss: 0.8732 - val_accuracy: 0.7239\n",
      "Epoch 14/20\n",
      "154/154 [==============================] - 1092s 7s/step - loss: 0.0162 - accuracy: 0.9967 - val_loss: 0.8803 - val_accuracy: 0.7258\n",
      "Epoch 15/20\n",
      "154/154 [==============================] - ETA: 0s - loss: 0.0154 - accuracy: 0.9961Restoring model weights from the end of the best epoch.\n",
      "154/154 [==============================] - 1091s 7s/step - loss: 0.0154 - accuracy: 0.9961 - val_loss: 0.8867 - val_accuracy: 0.7239\n",
      "Epoch 00015: early stopping\n"
     ]
    },
    {
     "data": {
      "image/png": "[encoded data removed]",
      "text/plain": [
       "<Figure size 432x288 with 1 Axes>"
      ]
     },
     "metadata": {
      "needs_background": "light"
     },
     "output_type": "display_data"
    },
    {
     "data": {
      "image/png": "[encoded data removed]",
      "text/plain": [
       "<Figure size 432x288 with 1 Axes>"
      ]
     },
     "metadata": {
      "needs_background": "light"
     },
     "output_type": "display_data"
    },
    {
     "data": {
      "text/plain": [
       "8174"
      ]
     },
     "execution_count": 117,
     "metadata": {},
     "output_type": "execute_result"
    }
   ],
   "source": [
    "es_callback = tf.keras.callbacks.EarlyStopping(patience=10, \n",
    "                                               verbose=1, \n",
    "                                               restore_best_weights=True)\n",
    "\n",
    "history3 = model.fit(train_imgs_rand_2, \n",
    "                    train_df_rand_2, \n",
    "                    batch_size=BATCH_SIZE, \n",
    "                    epochs=EPOCHS2, \n",
    "                    callbacks=[es_callback, get_lr_callback(BATCH_SIZE)], \n",
    "                    validation_data=(val_imgs, val_df))\n",
    "\n",
    "\n",
    "pd.DataFrame(history3.history)[['accuracy', 'val_accuracy']].plot()\n",
    "pd.DataFrame(history3.history)[['loss', 'val_loss']].plot()\n",
    "plt.show()\n",
    "\n",
    "gc.collect()"
   ]
  },
  {
   "cell_type": "markdown",
   "metadata": {},
   "source": [
    "### small net work"
   ]
  },
  {
   "cell_type": "code",
   "execution_count": 118,
   "metadata": {},
   "outputs": [],
   "source": [
    "from tensorflow import keras\n",
    "from tensorflow.keras import layers\n",
    "\n",
    "def make_model(input_shape, num_classes):\n",
    "    inputs = keras.Input(shape=input_shape)\n",
    "\n",
    "    x = inputs\n",
    "\n",
    "    # Entry block\n",
    "    x = layers.experimental.preprocessing.Rescaling(1.0 / 255)(x)\n",
    "    x = layers.Conv2D(32, 3, strides=2, padding=\"same\")(x)\n",
    "    x = layers.BatchNormalization()(x)\n",
    "    x = layers.Activation(\"relu\")(x)\n",
    "\n",
    "    x = layers.Conv2D(64, 3, padding=\"same\")(x)\n",
    "    x = layers.BatchNormalization()(x)\n",
    "    x = layers.Activation(\"relu\")(x)\n",
    "\n",
    "    previous_block_activation = x  # Set aside residual\n",
    "\n",
    "    for size in [128]:\n",
    "        x = layers.Activation(\"relu\")(x)\n",
    "        x = layers.SeparableConv2D(size, 3, padding=\"same\")(x)\n",
    "        x = layers.BatchNormalization()(x)\n",
    "\n",
    "        x = layers.Activation(\"relu\")(x)\n",
    "        x = layers.SeparableConv2D(size, 3, padding=\"same\")(x)\n",
    "        x = layers.BatchNormalization()(x)\n",
    "\n",
    "        x = layers.MaxPooling2D(3, strides=2, padding=\"same\")(x)\n",
    "\n",
    "        # Project residual\n",
    "        residual = layers.Conv2D(size, 1, strides=2, padding=\"same\")(\n",
    "            previous_block_activation\n",
    "        )\n",
    "        x = layers.add([x, residual])  # Add back residual\n",
    "        previous_block_activation = x  # Set aside next residual\n",
    "\n",
    "    x = layers.SeparableConv2D(1024, 3, padding=\"same\")(x)\n",
    "    x = layers.BatchNormalization()(x)\n",
    "    x = layers.Activation(\"relu\")(x)\n",
    "\n",
    "    x = layers.GlobalAveragePooling2D()(x)\n",
    "    if num_classes == 2:\n",
    "        activation = \"sigmoid\"\n",
    "        units = 1\n",
    "    else:\n",
    "        activation = \"softmax\"\n",
    "        units = num_classes\n",
    "\n",
    "    x = layers.Dropout(0.5)(x)\n",
    "    outputs = layers.Dense(units, activation=activation)(x)\n",
    "    return keras.Model(inputs, outputs)\n",
    "\n",
    "image_size = (256, 256)\n",
    "model = make_model(input_shape=image_size + (3,), num_classes=3)\n",
    "opt = tf.keras.optimizers.SGD(momentum=0.9)\n",
    "model.compile(optimizer=opt, loss='categorical_crossentropy', metrics=['accuracy'])"
   ]
  },
  {
   "cell_type": "code",
   "execution_count": 146,
   "metadata": {},
   "outputs": [
    {
     "name": "stdout",
     "output_type": "stream",
     "text": [
      "Model: \"functional_27\"\n",
      "__________________________________________________________________________________________________\n",
      "Layer (type)                    Output Shape         Param #     Connected to                     \n",
      "==================================================================================================\n",
      "input_19 (InputLayer)           [(None, 256, 256, 3) 0                                            \n",
      "__________________________________________________________________________________________________\n",
      "rescaling_10 (Rescaling)        (None, 256, 256, 3)  0           input_19[0][0]                   \n",
      "__________________________________________________________________________________________________\n",
      "conv2d_57 (Conv2D)              (None, 128, 128, 32) 896         rescaling_10[0][0]               \n",
      "__________________________________________________________________________________________________\n",
      "batch_normalization_96 (BatchNo (None, 128, 128, 32) 128         conv2d_57[0][0]                  \n",
      "__________________________________________________________________________________________________\n",
      "activation_94 (Activation)      (None, 128, 128, 32) 0           batch_normalization_96[0][0]     \n",
      "__________________________________________________________________________________________________\n",
      "conv2d_58 (Conv2D)              (None, 128, 128, 64) 18496       activation_94[0][0]              \n",
      "__________________________________________________________________________________________________\n",
      "batch_normalization_97 (BatchNo (None, 128, 128, 64) 256         conv2d_58[0][0]                  \n",
      "__________________________________________________________________________________________________\n",
      "activation_95 (Activation)      (None, 128, 128, 64) 0           batch_normalization_97[0][0]     \n",
      "__________________________________________________________________________________________________\n",
      "activation_96 (Activation)      (None, 128, 128, 64) 0           activation_95[0][0]              \n",
      "__________________________________________________________________________________________________\n",
      "separable_conv2d_74 (SeparableC (None, 128, 128, 128 8896        activation_96[0][0]              \n",
      "__________________________________________________________________________________________________\n",
      "batch_normalization_98 (BatchNo (None, 128, 128, 128 512         separable_conv2d_74[0][0]        \n",
      "__________________________________________________________________________________________________\n",
      "activation_97 (Activation)      (None, 128, 128, 128 0           batch_normalization_98[0][0]     \n",
      "__________________________________________________________________________________________________\n",
      "separable_conv2d_75 (SeparableC (None, 128, 128, 128 17664       activation_97[0][0]              \n",
      "__________________________________________________________________________________________________\n",
      "batch_normalization_99 (BatchNo (None, 128, 128, 128 512         separable_conv2d_75[0][0]        \n",
      "__________________________________________________________________________________________________\n",
      "max_pooling2d_35 (MaxPooling2D) (None, 64, 64, 128)  0           batch_normalization_99[0][0]     \n",
      "__________________________________________________________________________________________________\n",
      "conv2d_59 (Conv2D)              (None, 64, 64, 128)  8320        activation_95[0][0]              \n",
      "__________________________________________________________________________________________________\n",
      "add_32 (Add)                    (None, 64, 64, 128)  0           max_pooling2d_35[0][0]           \n",
      "                                                                 conv2d_59[0][0]                  \n",
      "__________________________________________________________________________________________________\n",
      "separable_conv2d_76 (SeparableC (None, 64, 64, 1024) 133248      add_32[0][0]                     \n",
      "__________________________________________________________________________________________________\n",
      "batch_normalization_100 (BatchN (None, 64, 64, 1024) 4096        separable_conv2d_76[0][0]        \n",
      "__________________________________________________________________________________________________\n",
      "activation_98 (Activation)      (None, 64, 64, 1024) 0           batch_normalization_100[0][0]    \n",
      "__________________________________________________________________________________________________\n",
      "global_average_pooling2d_13 (Gl (None, 1024)         0           activation_98[0][0]              \n",
      "__________________________________________________________________________________________________\n",
      "dropout_15 (Dropout)            (None, 1024)         0           global_average_pooling2d_13[0][0]\n",
      "__________________________________________________________________________________________________\n",
      "dense_16 (Dense)                (None, 3)            3075        dropout_15[0][0]                 \n",
      "==================================================================================================\n",
      "Total params: 196,099\n",
      "Trainable params: 193,347\n",
      "Non-trainable params: 2,752\n",
      "__________________________________________________________________________________________________\n"
     ]
    }
   ],
   "source": [
    "model.summary()"
   ]
  },
  {
   "cell_type": "code",
   "execution_count": 165,
   "metadata": {},
   "outputs": [
    {
     "name": "stdout",
     "output_type": "stream",
     "text": [
      "('Failed to import pydot. You must `pip install pydot` and install graphviz (https://graphviz.gitlab.io/download/), ', 'for `pydotprint` to work.')\n"
     ]
    }
   ],
   "source": [
    "from tensorflow.python.keras.utils.vis_utils import plot_model\n",
    "plot_model(model)"
   ]
  },
  {
   "cell_type": "code",
   "execution_count": 120,
   "metadata": {},
   "outputs": [
    {
     "data": {
      "image/png": "[encoded data removed]",
      "text/plain": [
       "<Figure size 432x288 with 1 Axes>"
      ]
     },
     "metadata": {
      "needs_background": "light"
     },
     "output_type": "display_data"
    },
    {
     "data": {
      "text/plain": [
       "<tensorflow.python.keras.callbacks.LearningRateScheduler at 0x7fbfb5cb35b0>"
      ]
     },
     "execution_count": 120,
     "metadata": {},
     "output_type": "execute_result"
    }
   ],
   "source": [
    "EPOCHS3 = 20\n",
    "def get_lr_callback2(batch_size=32, plot=False):\n",
    "    start_lr = 0.001\n",
    "    def step_decay(epoch):\n",
    "        drop = 0.5\n",
    "        epochs_drop = 5.0\n",
    "        lr = start_lr * math.pow(drop, math.floor((1+epoch)/epochs_drop))\n",
    "        return lr\n",
    "    \n",
    "    lr_callback = tf.keras.callbacks.LearningRateScheduler(step_decay)\n",
    "    if plot == True:\n",
    "        rng = [i for i in range(EPOCHS3)]\n",
    "        y = [step_decay(x) for x in rng]\n",
    "        plt.plot(rng, y)\n",
    "        plt.xlabel('epoch', size=14)\n",
    "        plt.ylabel('learning_rate', size=14)\n",
    "        plt.title('Training Schedule', size=16)\n",
    "        plt.show()\n",
    "        \n",
    "    return lr_callback\n",
    "\n",
    "\n",
    "get_lr_callback2(plot=True)"
   ]
  },
  {
   "cell_type": "code",
   "execution_count": 121,
   "metadata": {},
   "outputs": [
    {
     "name": "stdout",
     "output_type": "stream",
     "text": [
      "Epoch 1/20\n",
      "154/154 [==============================] - 548s 4s/step - loss: 1.0005 - accuracy: 0.5183 - val_loss: 1.1014 - val_accuracy: 0.3423\n",
      "Epoch 2/20\n",
      "154/154 [==============================] - 543s 4s/step - loss: 0.9205 - accuracy: 0.5774 - val_loss: 1.1199 - val_accuracy: 0.3423\n",
      "Epoch 3/20\n",
      "154/154 [==============================] - 544s 4s/step - loss: 0.8848 - accuracy: 0.5986 - val_loss: 1.1729 - val_accuracy: 0.3423\n",
      "Epoch 4/20\n",
      "154/154 [==============================] - 542s 4s/step - loss: 0.8810 - accuracy: 0.5970 - val_loss: 1.2251 - val_accuracy: 0.3423\n",
      "Epoch 5/20\n",
      "154/154 [==============================] - 543s 4s/step - loss: 0.8504 - accuracy: 0.6222 - val_loss: 1.0440 - val_accuracy: 0.4267\n",
      "Epoch 6/20\n",
      "154/154 [==============================] - 547s 4s/step - loss: 0.8409 - accuracy: 0.6263 - val_loss: 0.7983 - val_accuracy: 0.6616\n",
      "Epoch 7/20\n",
      "154/154 [==============================] - 543s 4s/step - loss: 0.8162 - accuracy: 0.6383 - val_loss: 2.3512 - val_accuracy: 0.3931\n",
      "Epoch 8/20\n",
      "154/154 [==============================] - 544s 4s/step - loss: 0.8189 - accuracy: 0.6410 - val_loss: 1.2397 - val_accuracy: 0.4880\n",
      "Epoch 9/20\n",
      "154/154 [==============================] - 545s 4s/step - loss: 0.8116 - accuracy: 0.6534 - val_loss: 0.7857 - val_accuracy: 0.6759\n",
      "Epoch 10/20\n",
      "154/154 [==============================] - 544s 4s/step - loss: 0.7956 - accuracy: 0.6567 - val_loss: 0.8300 - val_accuracy: 0.5992\n",
      "Epoch 11/20\n",
      "154/154 [==============================] - 544s 4s/step - loss: 0.7926 - accuracy: 0.6553 - val_loss: 0.7953 - val_accuracy: 0.6587\n",
      "Epoch 12/20\n",
      "154/154 [==============================] - 544s 4s/step - loss: 0.7828 - accuracy: 0.6648 - val_loss: 0.7922 - val_accuracy: 0.6798\n",
      "Epoch 13/20\n",
      "154/154 [==============================] - 544s 4s/step - loss: 0.7753 - accuracy: 0.6652 - val_loss: 0.7574 - val_accuracy: 0.6663\n",
      "Epoch 14/20\n",
      "154/154 [==============================] - 543s 4s/step - loss: 0.7911 - accuracy: 0.6652 - val_loss: 0.7969 - val_accuracy: 0.6577\n",
      "Epoch 15/20\n",
      "154/154 [==============================] - 545s 4s/step - loss: 0.7806 - accuracy: 0.6707 - val_loss: 0.7515 - val_accuracy: 0.6970\n",
      "Epoch 16/20\n",
      "154/154 [==============================] - 5834s 38s/step - loss: 0.7617 - accuracy: 0.6726 - val_loss: 0.8682 - val_accuracy: 0.6318\n",
      "Epoch 17/20\n",
      "154/154 [==============================] - 555s 4s/step - loss: 0.7722 - accuracy: 0.6703 - val_loss: 0.8276 - val_accuracy: 0.6635\n",
      "Epoch 18/20\n",
      "154/154 [==============================] - 555s 4s/step - loss: 0.7613 - accuracy: 0.6707 - val_loss: 0.7755 - val_accuracy: 0.6970\n",
      "Epoch 19/20\n",
      "154/154 [==============================] - 547s 4s/step - loss: 0.7664 - accuracy: 0.6754 - val_loss: 0.7787 - val_accuracy: 0.6826\n",
      "Epoch 20/20\n",
      "154/154 [==============================] - 540s 4s/step - loss: 0.7548 - accuracy: 0.6785 - val_loss: 0.7496 - val_accuracy: 0.7018\n"
     ]
    }
   ],
   "source": [
    "history4 = model.fit(train_imgs, \n",
    "                    train_df, \n",
    "                    batch_size=BATCH_SIZE, \n",
    "                    epochs=EPOCHS3, \n",
    "                    callbacks=[es_callback, get_lr_callback2(BATCH_SIZE)], \n",
    "                    validation_data=(val_imgs, val_df))"
   ]
  },
  {
   "cell_type": "code",
   "execution_count": 122,
   "metadata": {},
   "outputs": [
    {
     "data": {
      "image/png": "[encoded data removed]",
      "text/plain": [
       "<Figure size 432x288 with 1 Axes>"
      ]
     },
     "metadata": {
      "needs_background": "light"
     },
     "output_type": "display_data"
    },
    {
     "data": {
      "image/png": "[encoded data removed]",
      "text/plain": [
       "<Figure size 432x288 with 1 Axes>"
      ]
     },
     "metadata": {
      "needs_background": "light"
     },
     "output_type": "display_data"
    },
    {
     "data": {
      "text/plain": [
       "9923"
      ]
     },
     "execution_count": 122,
     "metadata": {},
     "output_type": "execute_result"
    }
   ],
   "source": [
    "pd.DataFrame(history4.history)[['accuracy', 'val_accuracy']].plot()\n",
    "pd.DataFrame(history4.history)[['loss', 'val_loss']].plot()\n",
    "plt.show()\n",
    "\n",
    "gc.collect()"
   ]
  },
  {
   "cell_type": "code",
   "execution_count": 140,
   "metadata": {},
   "outputs": [],
   "source": [
    "s1 = pd.DataFrame(history.history['accuracy'], columns=['original'])\n",
    "s2 = pd.DataFrame(history3.history['accuracy'], columns=['half-random'])\n",
    "s3 = pd.DataFrame(history2.history['accuracy'], columns=['all-random'])\n",
    "df_out = pd.concat([s1, s2, s3], axis=1)"
   ]
  },
  {
   "cell_type": "code",
   "execution_count": 141,
   "metadata": {},
   "outputs": [
    {
     "data": {
      "text/plain": [
       "<matplotlib.axes._subplots.AxesSubplot at 0x7fbcde94de20>"
      ]
     },
     "execution_count": 141,
     "metadata": {},
     "output_type": "execute_result"
    },
    {
     "data": {
      "image/png": "[encoded data removed]",
      "text/plain": [
       "<Figure size 432x288 with 1 Axes>"
      ]
     },
     "metadata": {
      "needs_background": "light"
     },
     "output_type": "display_data"
    }
   ],
   "source": [
    "df_out.plot()"
   ]
  },
  {
   "cell_type": "code",
   "execution_count": 142,
   "metadata": {},
   "outputs": [
    {
     "data": {
      "text/plain": [
       "<matplotlib.axes._subplots.AxesSubplot at 0x7fbcdf5cbc70>"
      ]
     },
     "execution_count": 142,
     "metadata": {},
     "output_type": "execute_result"
    },
    {
     "data": {
      "image/png": "[encoded data removed]",
      "text/plain": [
       "<Figure size 432x288 with 1 Axes>"
      ]
     },
     "metadata": {
      "needs_background": "light"
     },
     "output_type": "display_data"
    }
   ],
   "source": [
    "s1 = pd.DataFrame(history.history['loss'], columns=['original'])\n",
    "s2 = pd.DataFrame(history3.history['loss'], columns=['half-random'])\n",
    "s3 = pd.DataFrame(history2.history['loss'], columns=['all-random'])\n",
    "df_out = pd.concat([s1, s2, s3], axis=1)\n",
    "df_out.plot()"
   ]
  },
  {
   "cell_type": "code",
   "execution_count": 143,
   "metadata": {},
   "outputs": [
    {
     "data": {
      "text/plain": [
       "<matplotlib.axes._subplots.AxesSubplot at 0x7fbcdfc259a0>"
      ]
     },
     "execution_count": 143,
     "metadata": {},
     "output_type": "execute_result"
    },
    {
     "data": {
      "image/png": "[encoded data removed]",
      "text/plain": [
       "<Figure size 432x288 with 1 Axes>"
      ]
     },
     "metadata": {
      "needs_background": "light"
     },
     "output_type": "display_data"
    }
   ],
   "source": [
    "s1 = pd.DataFrame(history.history['val_loss'], columns=['original'])\n",
    "s2 = pd.DataFrame(history3.history['val_loss'], columns=['half-random'])\n",
    "s3 = pd.DataFrame(history2.history['val_loss'], columns=['all-random'])\n",
    "df_out = pd.concat([s1, s2, s3], axis=1)\n",
    "df_out.plot()"
   ]
  },
  {
   "cell_type": "code",
   "execution_count": 144,
   "metadata": {},
   "outputs": [
    {
     "data": {
      "text/plain": [
       "<matplotlib.axes._subplots.AxesSubplot at 0x7fbce0678a30>"
      ]
     },
     "execution_count": 144,
     "metadata": {},
     "output_type": "execute_result"
    },
    {
     "data": {
      "image/png": "[encoded data removed]",
      "text/plain": [
       "<Figure size 432x288 with 1 Axes>"
      ]
     },
     "metadata": {
      "needs_background": "light"
     },
     "output_type": "display_data"
    }
   ],
   "source": [
    "s1 = pd.DataFrame(history.history['val_accuracy'], columns=['original'])\n",
    "s2 = pd.DataFrame(history3.history['val_accuracy'], columns=['half-random'])\n",
    "s3 = pd.DataFrame(history2.history['val_accuracy'], columns=['all-random'])\n",
    "df_out = pd.concat([s1, s2, s3], axis=1)\n",
    "df_out.plot()"
   ]
  },
  {
   "cell_type": "code",
   "execution_count": 161,
   "metadata": {},
   "outputs": [],
   "source": [
    "import pydot_ng"
   ]
  },
  {
   "cell_type": "code",
   "execution_count": 166,
   "metadata": {},
   "outputs": [
    {
     "ename": "SyntaxError",
     "evalue": "invalid syntax (<ipython-input-166-61fa35f88552>, line 2)",
     "output_type": "error",
     "traceback": [
      "\u001b[0;36m  File \u001b[0;32m\"<ipython-input-166-61fa35f88552>\"\u001b[0;36m, line \u001b[0;32m2\u001b[0m\n\u001b[0;31m    ==================================================================================================\u001b[0m\n\u001b[0m    ^\u001b[0m\n\u001b[0;31mSyntaxError\u001b[0m\u001b[0;31m:\u001b[0m invalid syntax\n"
     ]
    }
   ],
   "source": [
    "# Layer (type)                    Output Shape         Param #     Connected to                     \n",
    "==================================================================================================\n",
    "input (InputLayer)           [(None, 256, 256, 3)     0                                            \n",
    "__________________________________________________________________________________________________\n",
    "rescaling (Rescaling)        (None, 256, 256, 3)      0           input[0][0]                   \n",
    "__________________________________________________________________________________________________\n",
    "conv2d (Conv2D)              (None, 128, 128, 32)     896         rescaling[0][0]               \n",
    "__________________________________________________________________________________________________\n",
    "batch_normalization (BatchNo (None, 128, 128, 32)     128         conv2d[0][0]                  \n",
    "__________________________________________________________________________________________________\n",
    "activation (Activation)      (None, 128, 128, 32)     0           batch_normalization[0][0]     \n",
    "__________________________________________________________________________________________________\n",
    "conv2d (Conv2D)              (None, 128, 128, 64)     18496       activation[0][0]              \n",
    "__________________________________________________________________________________________________\n",
    "batch_normalization (BatchNo (None, 128, 128, 64)     256         conv2d[0][0]                  \n",
    "__________________________________________________________________________________________________\n",
    "activation (Activation)      (None, 128, 128, 64)     0           batch_normalization[0][0]     \n",
    "__________________________________________________________________________________________________\n",
    "activation (Activation)      (None, 128, 128, 64)     0           activation[0][0]              \n",
    "__________________________________________________________________________________________________\n",
    "separable_conv2d (SeparableC (None, 128, 128, 128     8896        activation[0][0]              \n",
    "__________________________________________________________________________________________________\n",
    "batch_normalization (BatchNo (None, 128, 128, 128     512         separable_conv2d[0][0]        \n",
    "__________________________________________________________________________________________________\n",
    "activation (Activation)      (None, 128, 128, 128     0           batch_normalization[0][0]     \n",
    "__________________________________________________________________________________________________\n",
    "separable_conv2d (SeparableC (None, 128, 128, 128     17664       activation[0][0]              \n",
    "__________________________________________________________________________________________________\n",
    "batch_normalization (BatchNo (None, 128, 128, 128     512         separable_conv2d[0][0]        \n",
    "__________________________________________________________________________________________________\n",
    "max_pooling2d (MaxPooling2D) (None, 64, 64, 128)      0           batch_normalization[0][0]     \n",
    "__________________________________________________________________________________________________\n",
    "conv2d (Conv2D)              (None, 64, 64, 128)      8320        activation[0][0]              \n",
    "__________________________________________________________________________________________________\n",
    "add (Add)                    (None, 64, 64, 128)      0           max_pooling2d[0][0]           \n",
    "                                                                  conv2d[0][0]                  \n",
    "__________________________________________________________________________________________________\n",
    "separable_conv2d (SeparableC (None, 64, 64, 1024)     133248      add[0][0]                     \n",
    "__________________________________________________________________________________________________\n",
    "batch_normalization (BatchN  (None, 64, 64, 1024)      4096        separable_conv2d[0][0]        \n",
    "__________________________________________________________________________________________________\n",
    "activation (Activation)      (None, 64, 64, 1024)      0           batch_normalization[0][0]    \n",
    "__________________________________________________________________________________________________\n",
    "global_average_pooling2d (Gl (None, 1024)              0           activation[0][0]              \n",
    "__________________________________________________________________________________________________\n",
    "dropout (Dropout)            (None, 1024)              0           global_average_pooling2d[0][0]\n",
    "__________________________________________________________________________________________________\n",
    "dense (Dense)                (None, 3)                 3075        dropout[0][0]                 \n",
    "==================================================================================================\n",
    "Total params: 196,099\n",
    "Trainable params: 193,347\n",
    "Non-trainable params: 2,752\n",
    "__________________________________________________________________________________________________"
   ]
  },
  {
   "cell_type": "code",
   "execution_count": null,
   "metadata": {},
   "outputs": [],
   "source": []
  }
 ],
 "metadata": {
  "kernelspec": {
   "display_name": "Python 3",
   "language": "python",
   "name": "python3"
  },
  "language_info": {
   "codemirror_mode": {
    "name": "ipython",
    "version": 3
   },
   "file_extension": ".py",
   "mimetype": "text/x-python",
   "name": "python",
   "nbconvert_exporter": "python",
   "pygments_lexer": "ipython3",
   "version": "3.8.3"
  }
 },
 "nbformat": 4,
 "nbformat_minor": 4
}
